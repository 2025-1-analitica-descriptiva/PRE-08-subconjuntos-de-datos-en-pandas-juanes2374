{
 "cells": [
  {
   "cell_type": "code",
   "execution_count": 4,
   "id": "1a62d988",
   "metadata": {},
   "outputs": [],
   "source": [
    "# %%\n",
    "import pandas as pd  # type: ignore\n",
    "import os\n",
    "\n",
    "# Configurar Pandas\n",
    "pd.set_option(\"display.notebook_repr_html\", False)\n",
    "\n",
    "# %%\n",
    "# Cargar el archivo desde la ruta relativa correcta\n",
    "df_path = \"../files/input/truck_event_text_partition.csv\"\n",
    "truck_events = pd.read_csv(df_path)\n",
    "\n",
    "# Ver la cabecera\n",
    "truck_events.head()\n",
    "\n",
    "# %%\n",
    "# Crear subconjunto\n",
    "truck_events_subset = truck_events[0:10]\n",
    "truck_events_subset\n",
    "\n",
    "# %%\n",
    "# Seleccionar columnas específicas\n",
    "specific_columns = truck_events_subset[[\"driverId\", \"eventTime\", \"eventType\"]]\n",
    "specific_columns\n",
    "\n",
    "# %%\n",
    "# Crear nuevo subconjunto con loc\n",
    "new_sub_set = truck_events.loc[0:10, [\"driverId\", \"eventTime\", \"eventType\"]]\n",
    "new_sub_set\n",
    "\n",
    "# %%\n",
    "# Acceder a una fila específica\n",
    "truck_events.iloc[1]\n",
    "\n",
    "# %%\n",
    "# Acceder a un campo específico de esa fila\n",
    "truck_events.iloc[1].eventKey\n",
    "\n",
    "# %%\n",
    "# Asegurarse de que la carpeta de salida exista\n",
    "os.makedirs(\"../files/output\", exist_ok=True)\n",
    "\n",
    "# Guardar el archivo exactamente donde lo busca el test\n",
    "specific_columns.to_csv(\"../files/output/specific-columns.csv\", sep=\",\", header=True, index=False)\n"
   ]
  }
 ],
 "metadata": {
  "kernelspec": {
   "display_name": ".venv",
   "language": "python",
   "name": "python3"
  },
  "language_info": {
   "codemirror_mode": {
    "name": "ipython",
    "version": 3
   },
   "file_extension": ".py",
   "mimetype": "text/x-python",
   "name": "python",
   "nbconvert_exporter": "python",
   "pygments_lexer": "ipython3",
   "version": "3.13.3"
  }
 },
 "nbformat": 4,
 "nbformat_minor": 5
}
